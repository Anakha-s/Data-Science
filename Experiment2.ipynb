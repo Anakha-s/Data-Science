{
  "nbformat": 4,
  "nbformat_minor": 0,
  "metadata": {
    "colab": {
      "name": "Experiment2.ipynb",
      "provenance": [],
      "authorship_tag": "ABX9TyPmAFPV23ISiUhl7RWMvm/2",
      "include_colab_link": true
    },
    "kernelspec": {
      "name": "python3",
      "display_name": "Python 3"
    },
    "language_info": {
      "name": "python"
    }
  },
  "cells": [
    {
      "cell_type": "markdown",
      "metadata": {
        "id": "view-in-github",
        "colab_type": "text"
      },
      "source": [
        "<a href=\"https://colab.research.google.com/github/Anakha-s/Data-Science/blob/main/Experiment2.ipynb\" target=\"_parent\"><img src=\"https://colab.research.google.com/assets/colab-badge.svg\" alt=\"Open In Colab\"/></a>"
      ]
    },
    {
      "cell_type": "markdown",
      "metadata": {
        "id": "drwR26rv8zis"
      },
      "source": [
        "Matrices Addition"
      ]
    },
    {
      "cell_type": "code",
      "metadata": {
        "colab": {
          "base_uri": "https://localhost:8080/"
        },
        "id": "Vm2IPLC286eR",
        "outputId": "385adb9f-fc98-47ba-b9a3-18bd4f49b98a"
      },
      "source": [
        "X=[[1,1,1],[2,2,2],[3,3,3]]\n",
        "Y=[[1,1,1],[1,1,1],[1,1,1]]\n",
        "R=[[0,0,0],[0,0,0],[0,0,0]]\n",
        "for i in range(len(X)):\n",
        "  for j in range(len(X[0])):\n",
        "    R[i][j]=X[i][j]+Y[i][j]\n",
        "for r in R:\n",
        "  print(r)"
      ],
      "execution_count": null,
      "outputs": [
        {
          "output_type": "stream",
          "name": "stdout",
          "text": [
            "[2, 2, 2]\n",
            "[3, 3, 3]\n",
            "[4, 4, 4]\n"
          ]
        }
      ]
    },
    {
      "cell_type": "markdown",
      "metadata": {
        "id": "-Ozu8wol-Gmg"
      },
      "source": [
        ""
      ]
    },
    {
      "cell_type": "markdown",
      "metadata": {
        "id": "zB80HY0s-GoF"
      },
      "source": [
        "Matrices Subtraction"
      ]
    },
    {
      "cell_type": "code",
      "metadata": {
        "colab": {
          "base_uri": "https://localhost:8080/"
        },
        "id": "DGZ7Fth7-Kpr",
        "outputId": "b5f5caa1-243b-4827-c13d-10ba703aed98"
      },
      "source": [
        "X=[[1,1,1],[2,2,2],[3,3,3]]\n",
        "Y=[[1,1,1],[1,1,1],[1,1,1]]\n",
        "R=[[0,0,0],[0,0,0],[0,0,0]]\n",
        "for i in range(len(X)):\n",
        "  for j in range(len(X[0])):\n",
        "    R[i][j]=X[i][j]-Y[i][j]\n",
        "for r in R:\n",
        "  print(r)\n"
      ],
      "execution_count": null,
      "outputs": [
        {
          "output_type": "stream",
          "name": "stdout",
          "text": [
            "[0, 0, 0]\n",
            "[1, 1, 1]\n",
            "[2, 2, 2]\n"
          ]
        }
      ]
    },
    {
      "cell_type": "markdown",
      "metadata": {
        "id": "pRzcqBerEoUw"
      },
      "source": [
        "sum of an array"
      ]
    },
    {
      "cell_type": "code",
      "metadata": {
        "colab": {
          "base_uri": "https://localhost:8080/"
        },
        "id": "Qlqxo33wEqTV",
        "outputId": "b0561542-43ab-4ab1-c9fa-303fa4b20499"
      },
      "source": [
        "import numpy as np \n",
        "       \n",
        "# 1D array \n",
        "arr = [20, 2, 2, 10, 4]  \n",
        "   \n",
        "print(\"\\nSum of 1D array : \", np.sum(arr))\n",
        "\n",
        "# 2D array \n",
        "\n",
        "arr2 = [[14, 17, 12, 33, 44],   \n",
        "       [15, 6, 27, 8, 19],  \n",
        "       [23, 2, 54, 1, 4,]]  \n",
        "   \n",
        "print(\"\\nSum of 1D array : \", np.sum(arr2)) \n",
        "   \n",
        "\n",
        "\n"
      ],
      "execution_count": 1,
      "outputs": [
        {
          "output_type": "stream",
          "name": "stdout",
          "text": [
            "\n",
            "Sum of 1D array :  38\n",
            "\n",
            "Sum of 1D array :  279\n"
          ]
        }
      ]
    },
    {
      "cell_type": "markdown",
      "metadata": {
        "id": "Dpwe8TsBF6Gf"
      },
      "source": [
        "Matrix dot product"
      ]
    },
    {
      "cell_type": "code",
      "metadata": {
        "colab": {
          "base_uri": "https://localhost:8080/"
        },
        "id": "3wHQSmezF69M",
        "outputId": "6f9a0d42-9750-4b68-ce72-cea6fbad587b"
      },
      "source": [
        "import numpy as np\n",
        " \n",
        "\n",
        "a = [[1, 1], \n",
        "     [2, 2]]\n",
        "     \n",
        "b = [[1, 1],\n",
        "     [3, 3]]\n",
        " \n",
        "\n",
        "print(np.dot(b, a))"
      ],
      "execution_count": null,
      "outputs": [
        {
          "output_type": "stream",
          "name": "stdout",
          "text": [
            "[[3 3]\n",
            " [9 9]]\n"
          ]
        }
      ]
    },
    {
      "cell_type": "code",
      "source": [
        "#element-wise Multiplication\n",
        "import numpy as np\n",
        "\n",
        "a1 = np.array([[12,46,23,7,2],[3,5,8,3,6]])\n",
        "a2 = np.array([[15,26,2,17,22],[13,8,9,3,4]])\n",
        "\n",
        "print(np.multiply(a1,a2))"
      ],
      "metadata": {
        "colab": {
          "base_uri": "https://localhost:8080/"
        },
        "id": "cyhmmidZMKhk",
        "outputId": "8cd7bff9-aa40-4586-95df-0619e27ebe3b"
      },
      "execution_count": 2,
      "outputs": [
        {
          "output_type": "stream",
          "name": "stdout",
          "text": [
            "[[ 180 1196   46  119   44]\n",
            " [  39   40   72    9   24]]\n"
          ]
        }
      ]
    },
    {
      "cell_type": "code",
      "source": [
        "#transpose\n",
        "import numpy as np\n",
        "Ms=np.matrix('[4,1 ; 12,3]')\n",
        "Tr=Ms.transpose()\n",
        "print(Tr)"
      ],
      "metadata": {
        "colab": {
          "base_uri": "https://localhost:8080/"
        },
        "id": "iTtko0JMOXmL",
        "outputId": "71ee2894-e6ae-4898-ce03-a35c69e6fec8"
      },
      "execution_count": 4,
      "outputs": [
        {
          "output_type": "stream",
          "name": "stdout",
          "text": [
            "[[ 4 12]\n",
            " [ 1  3]]\n"
          ]
        }
      ]
    },
    {
      "cell_type": "code",
      "source": [
        "#SVD\n",
        "import numpy as np\n",
        "A=np.array([[3,4,3],[1,2,3],[4,2,1]])\n",
        "U,D,VT=np.linalg.svd(A)\n",
        "A_ans = (U @ np.diag(D) @ VT)\n",
        "print(U)\n",
        "print()\n",
        "print(D)\n",
        "print()\n",
        "print(VT)\n",
        "print()\n",
        "print(A_ans)"
      ],
      "metadata": {
        "id": "BuYy-JzkPP-N",
        "outputId": "42f79c1b-85d9-4342-89ca-53f58d9e3690",
        "colab": {
          "base_uri": "https://localhost:8080/"
        }
      },
      "execution_count": 23,
      "outputs": [
        {
          "output_type": "stream",
          "name": "stdout",
          "text": [
            "[[-0.73553325 -0.18392937 -0.65204358]\n",
            " [-0.42657919 -0.62196982  0.65664582]\n",
            " [-0.52632788  0.76113306  0.37901904]]\n",
            "\n",
            "[7.87764972 2.54031671 0.69958986]\n",
            "\n",
            "[[-0.60151068 -0.61540527 -0.5093734 ]\n",
            " [ 0.73643349 -0.18005275 -0.65210944]\n",
            " [ 0.30959751 -0.76737042  0.5615087 ]]\n",
            "\n",
            "[[3. 4. 3.]\n",
            " [1. 2. 3.]\n",
            " [4. 2. 1.]]\n"
          ]
        }
      ]
    }
  ]
}