{
  "nbformat": 4,
  "nbformat_minor": 0,
  "metadata": {
    "colab": {
      "name": "Experiment2.ipynb",
      "provenance": [],
      "authorship_tag": "ABX9TyP4JKEeWqkQX+K5QIZUFb4R",
      "include_colab_link": true
    },
    "kernelspec": {
      "name": "python3",
      "display_name": "Python 3"
    },
    "language_info": {
      "name": "python"
    }
  },
  "cells": [
    {
      "cell_type": "markdown",
      "metadata": {
        "id": "view-in-github",
        "colab_type": "text"
      },
      "source": [
        "<a href=\"https://colab.research.google.com/github/Anakha-s/Data-Science/blob/main/Experiment2.ipynb\" target=\"_parent\"><img src=\"https://colab.research.google.com/assets/colab-badge.svg\" alt=\"Open In Colab\"/></a>"
      ]
    },
    {
      "cell_type": "markdown",
      "metadata": {
        "id": "drwR26rv8zis"
      },
      "source": [
        "Matrices Addition"
      ]
    },
    {
      "cell_type": "code",
      "metadata": {
        "colab": {
          "base_uri": "https://localhost:8080/"
        },
        "id": "Vm2IPLC286eR",
        "outputId": "385adb9f-fc98-47ba-b9a3-18bd4f49b98a"
      },
      "source": [
        "X=[[1,1,1],[2,2,2],[3,3,3]]\n",
        "Y=[[1,1,1],[1,1,1],[1,1,1]]\n",
        "R=[[0,0,0],[0,0,0],[0,0,0]]\n",
        "for i in range(len(X)):\n",
        "  for j in range(len(X[0])):\n",
        "    R[i][j]=X[i][j]+Y[i][j]\n",
        "for r in R:\n",
        "  print(r)"
      ],
      "execution_count": null,
      "outputs": [
        {
          "output_type": "stream",
          "name": "stdout",
          "text": [
            "[2, 2, 2]\n",
            "[3, 3, 3]\n",
            "[4, 4, 4]\n"
          ]
        }
      ]
    },
    {
      "cell_type": "markdown",
      "metadata": {
        "id": "-Ozu8wol-Gmg"
      },
      "source": [
        ""
      ]
    },
    {
      "cell_type": "markdown",
      "metadata": {
        "id": "zB80HY0s-GoF"
      },
      "source": [
        "Matrices Subtraction"
      ]
    },
    {
      "cell_type": "code",
      "metadata": {
        "colab": {
          "base_uri": "https://localhost:8080/"
        },
        "id": "DGZ7Fth7-Kpr",
        "outputId": "b5f5caa1-243b-4827-c13d-10ba703aed98"
      },
      "source": [
        "X=[[1,1,1],[2,2,2],[3,3,3]]\n",
        "Y=[[1,1,1],[1,1,1],[1,1,1]]\n",
        "R=[[0,0,0],[0,0,0],[0,0,0]]\n",
        "for i in range(len(X)):\n",
        "  for j in range(len(X[0])):\n",
        "    R[i][j]=X[i][j]-Y[i][j]\n",
        "for r in R:\n",
        "  print(r)\n"
      ],
      "execution_count": null,
      "outputs": [
        {
          "output_type": "stream",
          "name": "stdout",
          "text": [
            "[0, 0, 0]\n",
            "[1, 1, 1]\n",
            "[2, 2, 2]\n"
          ]
        }
      ]
    },
    {
      "cell_type": "markdown",
      "metadata": {
        "id": "pRzcqBerEoUw"
      },
      "source": [
        "sum of an array"
      ]
    },
    {
      "cell_type": "code",
      "metadata": {
        "colab": {
          "base_uri": "https://localhost:8080/"
        },
        "id": "Qlqxo33wEqTV",
        "outputId": "b0561542-43ab-4ab1-c9fa-303fa4b20499"
      },
      "source": [
        "import numpy as np \n",
        "       \n",
        "# 1D array \n",
        "arr = [20, 2, 2, 10, 4]  \n",
        "   \n",
        "print(\"\\nSum of 1D array : \", np.sum(arr))\n",
        "\n",
        "# 2D array \n",
        "\n",
        "arr2 = [[14, 17, 12, 33, 44],   \n",
        "       [15, 6, 27, 8, 19],  \n",
        "       [23, 2, 54, 1, 4,]]  \n",
        "   \n",
        "print(\"\\nSum of 1D array : \", np.sum(arr2)) \n",
        "   \n",
        "\n",
        "\n"
      ],
      "execution_count": 1,
      "outputs": [
        {
          "output_type": "stream",
          "name": "stdout",
          "text": [
            "\n",
            "Sum of 1D array :  38\n",
            "\n",
            "Sum of 1D array :  279\n"
          ]
        }
      ]
    },
    {
      "cell_type": "markdown",
      "metadata": {
        "id": "Dpwe8TsBF6Gf"
      },
      "source": [
        "Matrix dot product"
      ]
    },
    {
      "cell_type": "code",
      "metadata": {
        "colab": {
          "base_uri": "https://localhost:8080/"
        },
        "id": "3wHQSmezF69M",
        "outputId": "6f9a0d42-9750-4b68-ce72-cea6fbad587b"
      },
      "source": [
        "import numpy as np\n",
        " \n",
        "\n",
        "a = [[1, 1], \n",
        "     [2, 2]]\n",
        "     \n",
        "b = [[1, 1],\n",
        "     [3, 3]]\n",
        " \n",
        "\n",
        "print(np.dot(b, a))"
      ],
      "execution_count": null,
      "outputs": [
        {
          "output_type": "stream",
          "name": "stdout",
          "text": [
            "[[3 3]\n",
            " [9 9]]\n"
          ]
        }
      ]
    }
  ]
}