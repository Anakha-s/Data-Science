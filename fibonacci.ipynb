{
  "nbformat": 4,
  "nbformat_minor": 0,
  "metadata": {
    "colab": {
      "name": "fibonacci.ipynb",
      "provenance": [],
      "collapsed_sections": [],
      "authorship_tag": "ABX9TyPDf/EcWKhrHMdSokd8YN4X",
      "include_colab_link": true
    },
    "kernelspec": {
      "name": "python3",
      "display_name": "Python 3"
    },
    "language_info": {
      "name": "python"
    }
  },
  "cells": [
    {
      "cell_type": "markdown",
      "metadata": {
        "id": "view-in-github",
        "colab_type": "text"
      },
      "source": [
        "<a href=\"https://colab.research.google.com/github/Anakha-s/Data-Science/blob/main/fibonacci.ipynb\" target=\"_parent\"><img src=\"https://colab.research.google.com/assets/colab-badge.svg\" alt=\"Open In Colab\"/></a>"
      ]
    },
    {
      "cell_type": "code",
      "metadata": {
        "colab": {
          "base_uri": "https://localhost:8080/"
        },
        "id": "tEnBnWOKO2OK",
        "outputId": "1b1a72fe-6591-413b-db10-68e5ff8519e4"
      },
      "source": [
        "n=int(input(\"enter limit:\"))\n",
        "f1,f2=0,1\n",
        "count=0\n",
        "if n<=0:\n",
        "  print(\"enter +ve numbers\")\n",
        "elif n==1:\n",
        "  print(\"fibonacci sequence upto\",n,\":\")\n",
        "  print(f1)\n",
        "else:\n",
        "  print(\"fibonacci sequence:\")\n",
        "  while count<n:\n",
        "    print(f1)\n",
        "    f=f1+f2\n",
        "    f1=f2\n",
        "    f2=f\n",
        "    count+=1\n"
      ],
      "execution_count": 4,
      "outputs": [
        {
          "output_type": "stream",
          "name": "stdout",
          "text": [
            "enter limit:7\n",
            "fibonacci sequence:\n",
            "0\n",
            "1\n",
            "1\n",
            "2\n",
            "3\n",
            "5\n",
            "8\n"
          ]
        }
      ]
    }
  ]
}