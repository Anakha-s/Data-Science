{
  "nbformat": 4,
  "nbformat_minor": 0,
  "metadata": {
    "colab": {
      "name": "EXPP4.ipynb",
      "provenance": [],
      "authorship_tag": "ABX9TyPVRlHxyLJTBrRfUIlhulUn",
      "include_colab_link": true
    },
    "kernelspec": {
      "name": "python3",
      "display_name": "Python 3"
    },
    "language_info": {
      "name": "python"
    }
  },
  "cells": [
    {
      "cell_type": "markdown",
      "metadata": {
        "id": "view-in-github",
        "colab_type": "text"
      },
      "source": [
        "<a href=\"https://colab.research.google.com/github/Anakha-s/Data-Science/blob/main/EXPP4.ipynb\" target=\"_parent\"><img src=\"https://colab.research.google.com/assets/colab-badge.svg\" alt=\"Open In Colab\"/></a>"
      ]
    },
    {
      "cell_type": "code",
      "execution_count": 1,
      "metadata": {
        "id": "rM5Qcoya33Xa"
      },
      "outputs": [],
      "source": [
        "import matplotlib.pyplot as plt\n",
        "import numpy as np\n",
        "import seaborn as sns\n",
        "import pandas as pd\n",
        "from scipy import stats\n"
      ]
    },
    {
      "cell_type": "code",
      "source": [
        "movies= pd.read_csv(\"IMDb movies.csv\")\n",
        "print(movies.head(5))"
      ],
      "metadata": {
        "colab": {
          "base_uri": "https://localhost:8080/"
        },
        "id": "u1JdIX6O4Sv3",
        "outputId": "c2c2885b-2b5a-4d86-9494-aa68fca91704"
      },
      "execution_count": 2,
      "outputs": [
        {
          "output_type": "stream",
          "name": "stdout",
          "text": [
            "  imdb_title_id  ... reviews_from_critics\n",
            "0     tt0000009  ...                  2.0\n",
            "1     tt0000574  ...                  7.0\n",
            "2     tt0001892  ...                  2.0\n",
            "3     tt0002101  ...                  3.0\n",
            "4     tt0002130  ...                 14.0\n",
            "\n",
            "[5 rows x 22 columns]\n"
          ]
        },
        {
          "output_type": "stream",
          "name": "stderr",
          "text": [
            "/usr/local/lib/python3.7/dist-packages/IPython/core/interactiveshell.py:2718: DtypeWarning: Columns (3) have mixed types.Specify dtype option on import or set low_memory=False.\n",
            "  interactivity=interactivity, compiler=compiler, result=result)\n"
          ]
        }
      ]
    },
    {
      "cell_type": "code",
      "source": [
        "print(movies.describe)"
      ],
      "metadata": {
        "colab": {
          "base_uri": "https://localhost:8080/"
        },
        "id": "ZDKL8_LL4SyQ",
        "outputId": "1bea445c-b5f8-46df-e2bd-be3427e52571"
      },
      "execution_count": 3,
      "outputs": [
        {
          "output_type": "stream",
          "name": "stdout",
          "text": [
            "<bound method NDFrame.describe of       imdb_title_id  ... reviews_from_critics\n",
            "0         tt0000009  ...                  2.0\n",
            "1         tt0000574  ...                  7.0\n",
            "2         tt0001892  ...                  2.0\n",
            "3         tt0002101  ...                  3.0\n",
            "4         tt0002130  ...                 14.0\n",
            "...             ...  ...                  ...\n",
            "85850     tt9908390  ...                  4.0\n",
            "85851     tt9911196  ...                  4.0\n",
            "85852     tt9911774  ...                  NaN\n",
            "85853     tt9914286  ...                  NaN\n",
            "85854     tt9914942  ...                  2.0\n",
            "\n",
            "[85855 rows x 22 columns]>\n"
          ]
        }
      ]
    },
    {
      "cell_type": "code",
      "source": [
        "#check the column name\n",
        "print(\"column names:%s\" %movies.columns.values)\n"
      ],
      "metadata": {
        "colab": {
          "base_uri": "https://localhost:8080/"
        },
        "id": "N8hrM_Fe592Y",
        "outputId": "c7e96d00-2a81-4037-d652-36597864e4cb"
      },
      "execution_count": 4,
      "outputs": [
        {
          "output_type": "stream",
          "name": "stdout",
          "text": [
            "column names:['imdb_title_id' 'title' 'original_title' 'year' 'date_published' 'genre'\n",
            " 'duration' 'country' 'language' 'director' 'writer' 'production_company'\n",
            " 'actors' 'description' 'avg_vote' 'votes' 'budget' 'usa_gross_income'\n",
            " 'worlwide_gross_income' 'metascore' 'reviews_from_users'\n",
            " 'reviews_from_critics']\n"
          ]
        }
      ]
    },
    {
      "cell_type": "code",
      "source": [
        "print(movies.dtypes)\n",
        "print(movies.shape)"
      ],
      "metadata": {
        "colab": {
          "base_uri": "https://localhost:8080/"
        },
        "id": "ogR_ZMmt6IYh",
        "outputId": "f0104808-10da-4561-a8f9-8b8b4503d388"
      },
      "execution_count": 5,
      "outputs": [
        {
          "output_type": "stream",
          "name": "stdout",
          "text": [
            "imdb_title_id             object\n",
            "title                     object\n",
            "original_title            object\n",
            "year                      object\n",
            "date_published            object\n",
            "genre                     object\n",
            "duration                   int64\n",
            "country                   object\n",
            "language                  object\n",
            "director                  object\n",
            "writer                    object\n",
            "production_company        object\n",
            "actors                    object\n",
            "description               object\n",
            "avg_vote                 float64\n",
            "votes                      int64\n",
            "budget                    object\n",
            "usa_gross_income          object\n",
            "worlwide_gross_income     object\n",
            "metascore                float64\n",
            "reviews_from_users       float64\n",
            "reviews_from_critics     float64\n",
            "dtype: object\n",
            "(85855, 22)\n"
          ]
        }
      ]
    },
    {
      "cell_type": "code",
      "source": [
        "#check null data\n",
        "print(\"null value:\\n\")\n",
        "print(movies.isna()) #same as movies.isnull().sum()\n",
        "print(movies.isna().sum())\n",
        "print(\"null values %s\" %movies.isnull().values.any())\n",
        "print(\"null values %s\"%movies.isna().sum().sum())\n",
        "print(movies.describe())"
      ],
      "metadata": {
        "colab": {
          "base_uri": "https://localhost:8080/"
        },
        "id": "UI6YEkuV6OYj",
        "outputId": "4d245ef6-a781-4896-eba6-33279a0df5d1"
      },
      "execution_count": 6,
      "outputs": [
        {
          "output_type": "stream",
          "name": "stdout",
          "text": [
            "null value:\n",
            "\n",
            "       imdb_title_id  title  ...  reviews_from_users  reviews_from_critics\n",
            "0              False  False  ...               False                 False\n",
            "1              False  False  ...               False                 False\n",
            "2              False  False  ...               False                 False\n",
            "3              False  False  ...               False                 False\n",
            "4              False  False  ...               False                 False\n",
            "...              ...    ...  ...                 ...                   ...\n",
            "85850          False  False  ...                True                 False\n",
            "85851          False  False  ...               False                 False\n",
            "85852          False  False  ...                True                  True\n",
            "85853          False  False  ...                True                  True\n",
            "85854          False  False  ...                True                 False\n",
            "\n",
            "[85855 rows x 22 columns]\n",
            "imdb_title_id                0\n",
            "title                        0\n",
            "original_title               0\n",
            "year                         0\n",
            "date_published               0\n",
            "genre                        0\n",
            "duration                     0\n",
            "country                     64\n",
            "language                   833\n",
            "director                    87\n",
            "writer                    1572\n",
            "production_company        4455\n",
            "actors                      69\n",
            "description               2115\n",
            "avg_vote                     0\n",
            "votes                        0\n",
            "budget                   62145\n",
            "usa_gross_income         70529\n",
            "worlwide_gross_income    54839\n",
            "metascore                72550\n",
            "reviews_from_users        7597\n",
            "reviews_from_critics     11797\n",
            "dtype: int64\n",
            "null values True\n",
            "null values 288652\n",
            "           duration      avg_vote  ...  reviews_from_users  reviews_from_critics\n",
            "count  85855.000000  85855.000000  ...        78258.000000          74058.000000\n",
            "mean     100.351418      5.898656  ...           46.040826             27.479989\n",
            "std       22.553848      1.234987  ...          178.511411             58.339158\n",
            "min       41.000000      1.000000  ...            1.000000              1.000000\n",
            "25%       88.000000      5.200000  ...            4.000000              3.000000\n",
            "50%       96.000000      6.100000  ...            9.000000              8.000000\n",
            "75%      108.000000      6.800000  ...           27.000000             23.000000\n",
            "max      808.000000      9.900000  ...        10472.000000            999.000000\n",
            "\n",
            "[8 rows x 6 columns]\n"
          ]
        }
      ]
    },
    {
      "cell_type": "code",
      "source": [
        "#clean the dataset by droping the na values\n",
        "clean_movies=movies.dropna(how='any')\n",
        "movies=movies.dropna(how='any')"
      ],
      "metadata": {
        "id": "OQeUjpSW4a5X"
      },
      "execution_count": 7,
      "outputs": []
    },
    {
      "cell_type": "code",
      "source": [
        "print(clean_movies.shape)"
      ],
      "metadata": {
        "colab": {
          "base_uri": "https://localhost:8080/"
        },
        "id": "mh3OPdG96T7K",
        "outputId": "21ea97b4-ff98-49a0-e643-e57e0baa9828"
      },
      "execution_count": 8,
      "outputs": [
        {
          "output_type": "stream",
          "name": "stdout",
          "text": [
            "(6616, 22)\n"
          ]
        }
      ]
    },
    {
      "cell_type": "code",
      "source": [
        "#use fillna attribute of pandas\n",
        "#for filling up missing values in all columns\n",
        "movies.fillna(value=0,inplace=True)"
      ],
      "metadata": {
        "id": "MrABQXyR6W5e"
      },
      "execution_count": 9,
      "outputs": []
    },
    {
      "cell_type": "code",
      "source": [
        "#for this dataframe we can 'missing' in the columns of object data types for example language\n",
        "movies['language'].fillna(\"no info\",inplace=True)\n",
        "print(\"null values\", movies.isna().sum())\n"
      ],
      "metadata": {
        "colab": {
          "base_uri": "https://localhost:8080/"
        },
        "id": "ajaBKg616aKb",
        "outputId": "ea68c58a-b183-4a0c-f56f-eecd561e42d5"
      },
      "execution_count": 10,
      "outputs": [
        {
          "output_type": "stream",
          "name": "stdout",
          "text": [
            "null values imdb_title_id            0\n",
            "title                    0\n",
            "original_title           0\n",
            "year                     0\n",
            "date_published           0\n",
            "genre                    0\n",
            "duration                 0\n",
            "country                  0\n",
            "language                 0\n",
            "director                 0\n",
            "writer                   0\n",
            "production_company       0\n",
            "actors                   0\n",
            "description              0\n",
            "avg_vote                 0\n",
            "votes                    0\n",
            "budget                   0\n",
            "usa_gross_income         0\n",
            "worlwide_gross_income    0\n",
            "metascore                0\n",
            "reviews_from_users       0\n",
            "reviews_from_critics     0\n",
            "dtype: int64\n"
          ]
        }
      ]
    },
    {
      "cell_type": "code",
      "source": [
        "# check if there are duplicate rows or not \n",
        "\n",
        "#++++++++++++++++++++++++++++++++++++++++++++++++++++++++++++++++++++++++\n",
        "\n",
        "duplicate_rows = movies[movies.duplicated()]\n",
        "print(\"number of duplicate rows: \", duplicate_rows.shape)"
      ],
      "metadata": {
        "colab": {
          "base_uri": "https://localhost:8080/"
        },
        "id": "GAuh9K7j6hAb",
        "outputId": "88cac46f-e056-4f16-e8a5-650dd14aa958"
      },
      "execution_count": 11,
      "outputs": [
        {
          "output_type": "stream",
          "name": "stdout",
          "text": [
            "number of duplicate rows:  (0, 22)\n"
          ]
        }
      ]
    },
    {
      "cell_type": "code",
      "source": [
        "#+ discretization or binning\n",
        "\n",
        "print(movies['budget'][5:10])\n",
        "# check the miminmum value of all columns\n",
        "print(\"minimum values of all cloumn:\") \n",
        "print('\\n')\n",
        "print(movies.min())"
      ],
      "metadata": {
        "colab": {
          "base_uri": "https://localhost:8080/"
        },
        "id": "z3Eza5oT6kor",
        "outputId": "94c238c9-fd73-4810-bfd7-35aef599bfee"
      },
      "execution_count": 12,
      "outputs": [
        {
          "output_type": "stream",
          "name": "stdout",
          "text": [
            "3266    $ 3977000\n",
            "3348    $ 1900000\n",
            "3451    $ 2777000\n",
            "3553    $ 2280000\n",
            "3672    $ 2600000\n",
            "Name: budget, dtype: object\n",
            "minimum values of all cloumn:\n",
            "\n",
            "\n",
            "imdb_title_id                                                    tt0017136\n",
            "title                                                 (500) giorni insieme\n",
            "original_title                                          'Crocodile' Dundee\n",
            "date_published                                                  1928-10-01\n",
            "genre                                                               Action\n",
            "duration                                                                63\n",
            "country                     Afghanistan, Ireland, Japan, Iran, Netherlands\n",
            "language                                               Aboriginal, English\n",
            "director                                       Aaron Blaise, Robert Walker\n",
            "writer                                      'Weird Al' Yankovic, Jay Levey\n",
            "production_company                         \"DIA\" Productions GmbH & Co. KG\n",
            "actors                   'Weird Al' Yankovic, Victoria Jackson, Kevin M...\n",
            "description              \"21\" is the fact-based story about six MIT stu...\n",
            "avg_vote                                                               1.4\n",
            "votes                                                                  115\n",
            "budget                                                             $ 10000\n",
            "usa_gross_income                                                    $ 1000\n",
            "worlwide_gross_income                                               $ 1000\n",
            "metascore                                                                1\n",
            "reviews_from_users                                                       1\n",
            "reviews_from_critics                                                     1\n",
            "dtype: object\n"
          ]
        }
      ]
    }
  ]
}