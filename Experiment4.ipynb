{
  "nbformat": 4,
  "nbformat_minor": 0,
  "metadata": {
    "colab": {
      "name": "Experiment4.ipynb",
      "provenance": [],
      "authorship_tag": "ABX9TyNE/8pXFunD48cOayRZyjsU",
      "include_colab_link": true
    },
    "kernelspec": {
      "name": "python3",
      "display_name": "Python 3"
    },
    "language_info": {
      "name": "python"
    }
  },
  "cells": [
    {
      "cell_type": "markdown",
      "metadata": {
        "id": "view-in-github",
        "colab_type": "text"
      },
      "source": [
        "<a href=\"https://colab.research.google.com/github/Anakha-s/Data-Science/blob/main/Experiment4.ipynb\" target=\"_parent\"><img src=\"https://colab.research.google.com/assets/colab-badge.svg\" alt=\"Open In Colab\"/></a>"
      ]
    },
    {
      "cell_type": "code",
      "metadata": {
        "id": "WgyfgyLEMG3K"
      },
      "source": [
        "import pandas as pd\n",
        "import numpy as np\n",
        "import matplotlib,pyplot as plt\n",
        "import seaborn as sns\n",
        "from scipy import stats"
      ],
      "execution_count": 5,
      "outputs": []
    },
    {
      "cell_type": "code",
      "metadata": {
        "colab": {
          "base_uri": "https://localhost:8080/"
        },
        "id": "kpUWU1svUe3e",
        "outputId": "c10137d7-80a7-44f3-874d-03a03f1008da"
      },
      "source": [
        "\n",
        "\n",
        "movies=pd.read_csv(\"IMDb names.csv\")\n",
        "print(movies.head(5))"
      ],
      "execution_count": 3,
      "outputs": [
        {
          "output_type": "stream",
          "name": "stdout",
          "text": [
            "  imdb_name_id             name  ... spouses_with_children  children\n",
            "0    nm0000001     Fred Astaire  ...                   1.0       2.0\n",
            "1    nm0000002    Lauren Bacall  ...                   2.0       3.0\n",
            "2    nm0000003  Brigitte Bardot  ...                   1.0       1.0\n",
            "3    nm0000004     John Belushi  ...                   0.0       0.0\n",
            "4    nm0000005   Ingmar Bergman  ...                   5.0       8.0\n",
            "\n",
            "[5 rows x 17 columns]\n"
          ]
        }
      ]
    }
  ]
}