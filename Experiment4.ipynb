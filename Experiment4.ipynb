{
  "nbformat": 4,
  "nbformat_minor": 0,
  "metadata": {
    "colab": {
      "name": "Experiment4.ipynb",
      "provenance": [],
      "authorship_tag": "ABX9TyN3KVmBah9GVMja0N9takFq",
      "include_colab_link": true
    },
    "kernelspec": {
      "name": "python3",
      "display_name": "Python 3"
    },
    "language_info": {
      "name": "python"
    }
  },
  "cells": [
    {
      "cell_type": "markdown",
      "metadata": {
        "id": "view-in-github",
        "colab_type": "text"
      },
      "source": [
        "<a href=\"https://colab.research.google.com/github/Anakha-s/Data-Science/blob/main/Experiment4.ipynb\" target=\"_parent\"><img src=\"https://colab.research.google.com/assets/colab-badge.svg\" alt=\"Open In Colab\"/></a>"
      ]
    },
    {
      "cell_type": "code",
      "metadata": {
        "id": "WgyfgyLEMG3K"
      },
      "source": [
        "import pandas as pd\n",
        "import numpy as np\n",
        "import matplotlib,pyplot as plt\n",
        "import seaborn as sns\n",
        "from scipy import stats"
      ],
      "execution_count": 5,
      "outputs": []
    },
    {
      "cell_type": "code",
      "metadata": {
        "colab": {
          "base_uri": "https://localhost:8080/"
        },
        "id": "j02ue1v7ZXRc",
        "outputId": "b7642ab1-7149-4ec6-bf84-4dd25cd1fb42"
      },
      "source": [
        "#printing first rows(5) with head\n",
        "movies=pd.read_csv(\"IMDb names.csv\")\n",
        "print(movies.head(5))"
      ],
      "execution_count": 6,
      "outputs": [
        {
          "output_type": "stream",
          "name": "stdout",
          "text": [
            "  imdb_name_id             name  ... spouses_with_children  children\n",
            "0    nm0000001     Fred Astaire  ...                     1         2\n",
            "1    nm0000002    Lauren Bacall  ...                     2         3\n",
            "2    nm0000003  Brigitte Bardot  ...                     1         1\n",
            "3    nm0000004     John Belushi  ...                     0         0\n",
            "4    nm0000005   Ingmar Bergman  ...                     5         8\n",
            "\n",
            "[5 rows x 17 columns]\n"
          ]
        }
      ]
    },
    {
      "cell_type": "code",
      "metadata": {
        "colab": {
          "base_uri": "https://localhost:8080/"
        },
        "id": "UqJpEZm8ZXSo",
        "outputId": "f25f6bb6-82c2-4fb0-a7b3-4f499c1a2b3d"
      },
      "source": [
        "#describe statistics\n",
        "\n",
        "print(movies.describe())"
      ],
      "execution_count": 7,
      "outputs": [
        {
          "output_type": "stream",
          "name": "stdout",
          "text": [
            "             height        spouses  ...  spouses_with_children       children\n",
            "count  44681.000000  297705.000000  ...          297705.000000  297705.000000\n",
            "mean     175.007162       0.208690  ...               0.104866       0.196439\n",
            "std       14.055496       0.570208  ...               0.349762       0.721257\n",
            "min       20.000000       0.000000  ...               0.000000       0.000000\n",
            "25%      168.000000       0.000000  ...               0.000000       0.000000\n",
            "50%      175.000000       0.000000  ...               0.000000       0.000000\n",
            "75%      183.000000       0.000000  ...               0.000000       0.000000\n",
            "max      990.000000      12.000000  ...               6.000000      16.000000\n",
            "\n",
            "[8 rows x 5 columns]\n"
          ]
        }
      ]
    },
    {
      "cell_type": "code",
      "metadata": {
        "colab": {
          "base_uri": "https://localhost:8080/"
        },
        "id": "kpUWU1svUe3e",
        "outputId": "612759b0-e551-4b6b-904f-9f25bf94fe97"
      },
      "source": [
        "#check the column names\n",
        "\n",
        "print(\"column names:%s\"%movies.columns.values)\n"
      ],
      "execution_count": 8,
      "outputs": [
        {
          "output_type": "stream",
          "name": "stdout",
          "text": [
            "column names:['imdb_name_id' 'name' 'birth_name' 'height' 'bio' 'birth_details'\n",
            " 'date_of_birth' 'place_of_birth' 'death_details' 'date_of_death'\n",
            " 'place_of_death' 'reason_of_death' 'spouses_string' 'spouses' 'divorces'\n",
            " 'spouses_with_children' 'children']\n"
          ]
        }
      ]
    },
    {
      "cell_type": "code",
      "metadata": {
        "colab": {
          "base_uri": "https://localhost:8080/"
        },
        "id": "wcCqdpuqbe6-",
        "outputId": "27624692-9c51-4d98-a96b-acd67b3acf29"
      },
      "source": [
        "print(movies.dtypes)\n",
        "print(movies.shape)"
      ],
      "execution_count": 9,
      "outputs": [
        {
          "output_type": "stream",
          "name": "stdout",
          "text": [
            "imdb_name_id              object\n",
            "name                      object\n",
            "birth_name                object\n",
            "height                   float64\n",
            "bio                       object\n",
            "birth_details             object\n",
            "date_of_birth             object\n",
            "place_of_birth            object\n",
            "death_details             object\n",
            "date_of_death             object\n",
            "place_of_death            object\n",
            "reason_of_death           object\n",
            "spouses_string            object\n",
            "spouses                    int64\n",
            "divorces                   int64\n",
            "spouses_with_children      int64\n",
            "children                   int64\n",
            "dtype: object\n",
            "(297705, 17)\n"
          ]
        }
      ]
    },
    {
      "cell_type": "code",
      "metadata": {
        "colab": {
          "base_uri": "https://localhost:8080/"
        },
        "id": "weeCRp2KbsYS",
        "outputId": "c0cd6891-8326-4792-f92d-de5bb270dbdc"
      },
      "source": [
        "#check null data\n",
        "\n",
        "print(\"NULL VALUES:\\n\")\n",
        "print(movies.isna())\n",
        "print(movies.isna().sum())\n",
        "print(\"null values %s\" %movies.isnull().values.any())\n",
        "print(\"total null values %d\" %movies.isna().sum().sum())\n",
        "print(movies.describe())\n",
        "\n"
      ],
      "execution_count": 20,
      "outputs": [
        {
          "output_type": "stream",
          "name": "stdout",
          "text": [
            "NULL VALUES:\n",
            "\n",
            "        imdb_name_id   name  ...  spouses_with_children  children\n",
            "0              False  False  ...                  False     False\n",
            "1              False  False  ...                  False     False\n",
            "2              False  False  ...                  False     False\n",
            "3              False  False  ...                  False     False\n",
            "4              False  False  ...                  False     False\n",
            "...              ...    ...  ...                    ...       ...\n",
            "297700         False  False  ...                  False     False\n",
            "297701         False  False  ...                  False     False\n",
            "297702         False  False  ...                  False     False\n",
            "297703         False  False  ...                  False     False\n",
            "297704         False  False  ...                  False     False\n",
            "\n",
            "[297705 rows x 17 columns]\n",
            "imdb_name_id                  0\n",
            "name                          0\n",
            "birth_name                    0\n",
            "height                   253024\n",
            "bio                       93007\n",
            "birth_details            187093\n",
            "date_of_birth            187093\n",
            "place_of_birth           193713\n",
            "death_details            257772\n",
            "date_of_death            257772\n",
            "place_of_death           260667\n",
            "reason_of_death          275011\n",
            "spouses_string           252353\n",
            "spouses                       0\n",
            "divorces                      0\n",
            "spouses_with_children         0\n",
            "children                      0\n",
            "dtype: int64\n",
            "null values True\n",
            "total null values 2217505\n",
            "             height        spouses  ...  spouses_with_children       children\n",
            "count  44681.000000  297705.000000  ...          297705.000000  297705.000000\n",
            "mean     175.007162       0.208690  ...               0.104866       0.196439\n",
            "std       14.055496       0.570208  ...               0.349762       0.721257\n",
            "min       20.000000       0.000000  ...               0.000000       0.000000\n",
            "25%      168.000000       0.000000  ...               0.000000       0.000000\n",
            "50%      175.000000       0.000000  ...               0.000000       0.000000\n",
            "75%      183.000000       0.000000  ...               0.000000       0.000000\n",
            "max      990.000000      12.000000  ...               6.000000      16.000000\n",
            "\n",
            "[8 rows x 5 columns]\n"
          ]
        }
      ]
    },
    {
      "cell_type": "code",
      "metadata": {
        "colab": {
          "base_uri": "https://localhost:8080/"
        },
        "id": "fWNkBMFHgNzn",
        "outputId": "43e69961-fb2a-481f-d788-0c42328b5b53"
      },
      "source": [
        "#clean the dataset by droping the na values.\n",
        "clean_movies = movies.dropna(how='any')\n",
        "movies=movies.dropna(how='any')\n",
        "print(clean_movies)"
      ],
      "execution_count": 37,
      "outputs": [
        {
          "output_type": "stream",
          "name": "stdout",
          "text": [
            "       imdb_name_id            name  ... spouses_with_children  children\n",
            "0         nm0000001    Fred Astaire  ...                     1         2\n",
            "1         nm0000002   Lauren Bacall  ...                     2         3\n",
            "3         nm0000004    John Belushi  ...                     0         0\n",
            "4         nm0000005  Ingmar Bergman  ...                     5         8\n",
            "5         nm0000006  Ingrid Bergman  ...                     2         4\n",
            "...             ...             ...  ...                   ...       ...\n",
            "245609    nm4881574      Chris Kyle  ...                     1         2\n",
            "252816    nm5410196     Tony Mendez  ...                     2         4\n",
            "262067    nm6284246     August Ames  ...                     0         0\n",
            "265203    nm6649402     Salman Shah  ...                     0         0\n",
            "270769    nm7390393  Aachi Manorama  ...                     1         1\n",
            "\n",
            "[4539 rows x 17 columns]\n"
          ]
        }
      ]
    },
    {
      "cell_type": "code",
      "metadata": {
        "colab": {
          "base_uri": "https://localhost:8080/"
        },
        "id": "YtHqiA-RgOrq",
        "outputId": "6aa409b7-4e85-42ef-a2b8-77ae7cc098a0"
      },
      "source": [
        "print(clean_movies.shape)\n",
        "#ues fillna attribues of pandas\n",
        "#for filling up missing values in all columns\n",
        "\n",
        "movies.fillna(value=0,inplace=True)\n"
      ],
      "execution_count": 38,
      "outputs": [
        {
          "output_type": "stream",
          "name": "stdout",
          "text": [
            "(4539, 17)\n"
          ]
        }
      ]
    },
    {
      "cell_type": "code",
      "metadata": {
        "colab": {
          "base_uri": "https://localhost:8080/"
        },
        "id": "tlwObfBFgPCT",
        "outputId": "eb8597bf-437c-440e-fa25-5c8d33e702fe"
      },
      "source": [
        "# for some specfific columns we can just choose select those columns \n",
        "movies[['spouses', 'height']]=movies[['spouses', 'height']].fillna(value=0)\n",
        "\n",
        "movies['height'].fillna(movies['height'].mean(), inplace=True) \n",
        "print(movies)\n"
      ],
      "execution_count": 54,
      "outputs": [
        {
          "output_type": "stream",
          "name": "stdout",
          "text": [
            "       imdb_name_id            name  ... spouses_with_children  children\n",
            "0         nm0000001    Fred Astaire  ...                     1         2\n",
            "1         nm0000002   Lauren Bacall  ...                     2         3\n",
            "3         nm0000004    John Belushi  ...                     0         0\n",
            "4         nm0000005  Ingmar Bergman  ...                     5         8\n",
            "5         nm0000006  Ingrid Bergman  ...                     2         4\n",
            "...             ...             ...  ...                   ...       ...\n",
            "245609    nm4881574      Chris Kyle  ...                     1         2\n",
            "252816    nm5410196     Tony Mendez  ...                     2         4\n",
            "262067    nm6284246     August Ames  ...                     0         0\n",
            "265203    nm6649402     Salman Shah  ...                     0         0\n",
            "270769    nm7390393  Aachi Manorama  ...                     1         1\n",
            "\n",
            "[4539 rows x 17 columns]\n"
          ]
        }
      ]
    },
    {
      "cell_type": "code",
      "metadata": {
        "colab": {
          "base_uri": "https://localhost:8080/"
        },
        "id": "T-l1JSg-gPDM",
        "outputId": "12b3831e-339a-40d6-cf99-7416579f4f89"
      },
      "source": [
        "duplicate_rows = movies[movies.duplicated()]\n",
        "\n",
        "print (\"number of duplicate rows: \", duplicate_rows.shape)\n",
        "\n"
      ],
      "execution_count": 58,
      "outputs": [
        {
          "output_type": "stream",
          "name": "stdout",
          "text": [
            "number of duplicate rows:  (0, 17)\n"
          ]
        }
      ]
    },
    {
      "cell_type": "code",
      "metadata": {
        "id": "XS6rBtIF50-v"
      },
      "source": [
        ""
      ],
      "execution_count": null,
      "outputs": []
    }
  ]
}