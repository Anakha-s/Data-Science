{
  "nbformat": 4,
  "nbformat_minor": 0,
  "metadata": {
    "colab": {
      "name": "Experiment4.ipynb",
      "provenance": [],
      "authorship_tag": "ABX9TyMQxkokgMK297rC1sv71USY",
      "include_colab_link": true
    },
    "kernelspec": {
      "name": "python3",
      "display_name": "Python 3"
    },
    "language_info": {
      "name": "python"
    }
  },
  "cells": [
    {
      "cell_type": "markdown",
      "metadata": {
        "id": "view-in-github",
        "colab_type": "text"
      },
      "source": [
        "<a href=\"https://colab.research.google.com/github/Anakha-s/Data-Science/blob/main/Experiment4.ipynb\" target=\"_parent\"><img src=\"https://colab.research.google.com/assets/colab-badge.svg\" alt=\"Open In Colab\"/></a>"
      ]
    },
    {
      "cell_type": "code",
      "metadata": {
        "id": "WgyfgyLEMG3K"
      },
      "source": [
        "import pandas as pd\n",
        "import numpy as np\n",
        "import matplotlib,pyplot as plt\n",
        "import seaborn as sns\n",
        "from scipy import stats"
      ],
      "execution_count": 5,
      "outputs": []
    },
    {
      "cell_type": "code",
      "metadata": {
        "colab": {
          "base_uri": "https://localhost:8080/"
        },
        "id": "j02ue1v7ZXRc",
        "outputId": "b7642ab1-7149-4ec6-bf84-4dd25cd1fb42"
      },
      "source": [
        "\n",
        "movies=pd.read_csv(\"IMDb names.csv\")\n",
        "print(movies.head(5))"
      ],
      "execution_count": 6,
      "outputs": [
        {
          "output_type": "stream",
          "name": "stdout",
          "text": [
            "  imdb_name_id             name  ... spouses_with_children  children\n",
            "0    nm0000001     Fred Astaire  ...                     1         2\n",
            "1    nm0000002    Lauren Bacall  ...                     2         3\n",
            "2    nm0000003  Brigitte Bardot  ...                     1         1\n",
            "3    nm0000004     John Belushi  ...                     0         0\n",
            "4    nm0000005   Ingmar Bergman  ...                     5         8\n",
            "\n",
            "[5 rows x 17 columns]\n"
          ]
        }
      ]
    },
    {
      "cell_type": "code",
      "metadata": {
        "colab": {
          "base_uri": "https://localhost:8080/"
        },
        "id": "UqJpEZm8ZXSo",
        "outputId": "f25f6bb6-82c2-4fb0-a7b3-4f499c1a2b3d"
      },
      "source": [
        "print(movies.describe())"
      ],
      "execution_count": 7,
      "outputs": [
        {
          "output_type": "stream",
          "name": "stdout",
          "text": [
            "             height        spouses  ...  spouses_with_children       children\n",
            "count  44681.000000  297705.000000  ...          297705.000000  297705.000000\n",
            "mean     175.007162       0.208690  ...               0.104866       0.196439\n",
            "std       14.055496       0.570208  ...               0.349762       0.721257\n",
            "min       20.000000       0.000000  ...               0.000000       0.000000\n",
            "25%      168.000000       0.000000  ...               0.000000       0.000000\n",
            "50%      175.000000       0.000000  ...               0.000000       0.000000\n",
            "75%      183.000000       0.000000  ...               0.000000       0.000000\n",
            "max      990.000000      12.000000  ...               6.000000      16.000000\n",
            "\n",
            "[8 rows x 5 columns]\n"
          ]
        }
      ]
    },
    {
      "cell_type": "code",
      "metadata": {
        "id": "kpUWU1svUe3e"
      },
      "source": [
        "\n"
      ],
      "execution_count": 5,
      "outputs": []
    }
  ]
}