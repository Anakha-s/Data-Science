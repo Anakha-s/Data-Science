{
  "nbformat": 4,
  "nbformat_minor": 0,
  "metadata": {
    "colab": {
      "name": "experiment1.ipynb",
      "provenance": [],
      "authorship_tag": "ABX9TyPAE5HbvctkLwFRlEKEfE4Y",
      "include_colab_link": true
    },
    "kernelspec": {
      "name": "python3",
      "display_name": "Python 3"
    },
    "language_info": {
      "name": "python"
    }
  },
  "cells": [
    {
      "cell_type": "markdown",
      "metadata": {
        "id": "view-in-github",
        "colab_type": "text"
      },
      "source": [
        "<a href=\"https://colab.research.google.com/github/Anakha-s/Data-Science/blob/main/experiment1.ipynb\" target=\"_parent\"><img src=\"https://colab.research.google.com/assets/colab-badge.svg\" alt=\"Open In Colab\"/></a>"
      ]
    },
    {
      "cell_type": "code",
      "metadata": {
        "colab": {
          "base_uri": "https://localhost:8080/"
        },
        "id": "7ynI7fHzaJJ1",
        "outputId": "5588336d-6319-47b1-d40b-cd1ac019023f"
      },
      "source": [
        "#dictionary\n",
        "d={1:'Anu',2:'Minnu',3:'Kichu',4:'Ammu'}\n",
        "print(d)\n",
        "print(\"1st name is \"+d[1])\n",
        "print(\"3rd name is \"+d[3])\n",
        "print(d.keys())\n",
        "print(d.values())"
      ],
      "execution_count": 2,
      "outputs": [
        {
          "output_type": "stream",
          "name": "stdout",
          "text": [
            "{1: 'Anu', 2: 'Minnu', 3: 'Kichu', 4: 'Ammu'}\n",
            "1st name is Anu\n",
            "3rd name is Kichu\n",
            "dict_keys([1, 2, 3, 4])\n",
            "dict_values(['Anu', 'Minnu', 'Kichu', 'Ammu'])\n"
          ]
        }
      ]
    },
    {
      "cell_type": "markdown",
      "metadata": {
        "id": "-k0GpesadSv-"
      },
      "source": [
        "BOOLEAN VALUES"
      ]
    },
    {
      "cell_type": "code",
      "metadata": {
        "colab": {
          "base_uri": "https://localhost:8080/"
        },
        "id": "TVZs6ASddVb2",
        "outputId": "088c0d07-a0a0-44c7-b439-c2e748695d00"
      },
      "source": [
        "print(10>9)\n",
        "print(10==9)\n",
        "print(10<9)\n",
        "#boolean program with built in method bool()\n",
        "print(\"boolean program with built in method bool()\")\n",
        "x=5\n",
        "y=10\n",
        "print(bool(x==y))\n"
      ],
      "execution_count": 7,
      "outputs": [
        {
          "output_type": "stream",
          "name": "stdout",
          "text": [
            "True\n",
            "False\n",
            "False\n",
            "boolean program with built in method bool()\n",
            "False\n"
          ]
        }
      ]
    }
  ]
}