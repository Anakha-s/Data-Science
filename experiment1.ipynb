{
  "nbformat": 4,
  "nbformat_minor": 0,
  "metadata": {
    "colab": {
      "name": "experiment1.ipynb",
      "provenance": [],
      "collapsed_sections": [],
      "authorship_tag": "ABX9TyNRyIu3CK64zodCnrJfi+RE",
      "include_colab_link": true
    },
    "kernelspec": {
      "name": "python3",
      "display_name": "Python 3"
    },
    "language_info": {
      "name": "python"
    }
  },
  "cells": [
    {
      "cell_type": "markdown",
      "metadata": {
        "id": "view-in-github",
        "colab_type": "text"
      },
      "source": [
        "<a href=\"https://colab.research.google.com/github/Anakha-s/Data-Science/blob/main/experiment1.ipynb\" target=\"_parent\"><img src=\"https://colab.research.google.com/assets/colab-badge.svg\" alt=\"Open In Colab\"/></a>"
      ]
    },
    {
      "cell_type": "code",
      "metadata": {
        "colab": {
          "base_uri": "https://localhost:8080/"
        },
        "id": "7ynI7fHzaJJ1",
        "outputId": "5588336d-6319-47b1-d40b-cd1ac019023f"
      },
      "source": [
        "#dictionary\n",
        "d={1:'Anu',2:'Minnu',3:'Kichu',4:'Ammu'}\n",
        "print(d)\n",
        "print(\"1st name is \"+d[1])\n",
        "print(\"3rd name is \"+d[3])\n",
        "print(d.keys())\n",
        "print(d.values())"
      ],
      "execution_count": null,
      "outputs": [
        {
          "output_type": "stream",
          "name": "stdout",
          "text": [
            "{1: 'Anu', 2: 'Minnu', 3: 'Kichu', 4: 'Ammu'}\n",
            "1st name is Anu\n",
            "3rd name is Kichu\n",
            "dict_keys([1, 2, 3, 4])\n",
            "dict_values(['Anu', 'Minnu', 'Kichu', 'Ammu'])\n"
          ]
        }
      ]
    },
    {
      "cell_type": "markdown",
      "source": [
        "SET"
      ],
      "metadata": {
        "id": "Gmg43CSlSc_W"
      }
    },
    {
      "cell_type": "code",
      "source": [
        "# Different types of sets in Python\n",
        "# set of integers\n",
        "my_set = {1, 2, 3}\n",
        "print(my_set)\n",
        "\n",
        "# set of mixed datatypes\n",
        "my_set = {1.0, \"Hello\", (1, 2, 3)}\n",
        "print(my_set)"
      ],
      "metadata": {
        "id": "Ihj8cQONSdn1",
        "outputId": "440db042-3727-4567-a5d8-6b0e54e87b04",
        "colab": {
          "base_uri": "https://localhost:8080/"
        }
      },
      "execution_count": 7,
      "outputs": [
        {
          "output_type": "stream",
          "name": "stdout",
          "text": [
            "{1, 2, 3}\n",
            "{'Hello', 1.0, (1, 2, 3)}\n"
          ]
        }
      ]
    },
    {
      "cell_type": "markdown",
      "metadata": {
        "id": "-k0GpesadSv-"
      },
      "source": [
        "BOOLEAN VALUES"
      ]
    },
    {
      "cell_type": "code",
      "metadata": {
        "colab": {
          "base_uri": "https://localhost:8080/"
        },
        "id": "TVZs6ASddVb2",
        "outputId": "088c0d07-a0a0-44c7-b439-c2e748695d00"
      },
      "source": [
        "print(10>9)\n",
        "print(10==9)\n",
        "print(10<9)\n",
        "#boolean program with built in method bool()\n",
        "print(\"boolean program with built in method bool()\")\n",
        "x=5\n",
        "y=10\n",
        "print(bool(x==y))\n"
      ],
      "execution_count": null,
      "outputs": [
        {
          "output_type": "stream",
          "name": "stdout",
          "text": [
            "True\n",
            "False\n",
            "False\n",
            "boolean program with built in method bool()\n",
            "False\n"
          ]
        }
      ]
    },
    {
      "cell_type": "markdown",
      "metadata": {
        "id": "Y3XRxGuwfUKo"
      },
      "source": [
        "DATA TYPES"
      ]
    },
    {
      "cell_type": "code",
      "metadata": {
        "colab": {
          "base_uri": "https://localhost:8080/"
        },
        "id": "rxwMGengft28",
        "outputId": "9f67826f-8af5-4043-99bb-ccef1a5ccf4e"
      },
      "source": [
        "s=1\n",
        "print(type(s))\n",
        "a=\"hello\"\n",
        "print(type(a))\n",
        "b=[1,2,3]\n",
        "print(type(b))\n",
        "c={1:'hai',2:'everyone'}\n",
        "print(type(c))\n",
        "d=True\n",
        "print(type(d))\n",
        "e=1,2\n",
        "print(type(e))\n",
        "f={\"a\",\"b\"}\n",
        "print(type(f))\n",
        "g=()\n",
        "print(type(g))\n",
        "h=bytes()\n",
        "print(type(h))\n",
        "i=bytearray()\n",
        "print(type(i))\n",
        "j=range(4)\n",
        "print(type(j))\n",
        "\n"
      ],
      "execution_count": null,
      "outputs": [
        {
          "output_type": "stream",
          "name": "stdout",
          "text": [
            "<class 'int'>\n",
            "<class 'str'>\n",
            "<class 'list'>\n",
            "<class 'dict'>\n",
            "<class 'bool'>\n",
            "<class 'tuple'>\n",
            "<class 'set'>\n",
            "<class 'tuple'>\n",
            "<class 'bytes'>\n",
            "<class 'bytearray'>\n",
            "<class 'range'>\n"
          ]
        }
      ]
    },
    {
      "cell_type": "markdown",
      "metadata": {
        "id": "VS2R-ngqh_ad"
      },
      "source": [
        "LIST "
      ]
    },
    {
      "cell_type": "code",
      "metadata": {
        "id": "Chxb-iwxiC6G",
        "colab": {
          "base_uri": "https://localhost:8080/"
        },
        "outputId": "7fbe42b8-10a2-430c-8fbc-2409c29fbcbe"
      },
      "source": [
        "list=['Anu','Minnu','Kichu','Ammu']\n",
        "print(list[0])\n",
        "print(list[2])\n",
        "print(list[3])\n",
        "print(list[0:2])\n",
        "print(list[:])\n",
        "print(list[-2])"
      ],
      "execution_count": null,
      "outputs": [
        {
          "output_type": "stream",
          "name": "stdout",
          "text": [
            "Anu\n",
            "Kichu\n",
            "Ammu\n",
            "['Anu', 'Minnu']\n",
            "['Anu', 'Minnu', 'Kichu', 'Ammu']\n",
            "Kichu\n"
          ]
        }
      ]
    },
    {
      "cell_type": "markdown",
      "source": [
        "function"
      ],
      "metadata": {
        "id": "mpjca5v_LMfI"
      }
    },
    {
      "cell_type": "code",
      "source": [
        "def fact(n):\n",
        "  if n==1:\n",
        "    return n\n",
        "  else:\n",
        "    return n*fact(n-1)\n",
        "num=6\n",
        "if num<0:\n",
        "  print(\"factorial not possible\")\n",
        "elif num==0:\n",
        "  print(\"factorial of 0 is 1\")\n",
        "else:\n",
        "  print(\"factorial of\",num,\"is\",fact(num))"
      ],
      "metadata": {
        "id": "4i3qPoMELO6b",
        "outputId": "3c4be5a0-208b-4bf0-da11-9cc6e1103f70",
        "colab": {
          "base_uri": "https://localhost:8080/"
        }
      },
      "execution_count": null,
      "outputs": [
        {
          "output_type": "stream",
          "name": "stdout",
          "text": [
            "factorial of 6 is 720\n"
          ]
        }
      ]
    },
    {
      "cell_type": "markdown",
      "source": [
        "TUPLES"
      ],
      "metadata": {
        "id": "2AtOz2bfTJwV"
      }
    },
    {
      "cell_type": "code",
      "source": [
        "# Different types of tuples\n",
        "\n",
        "# Empty tuple\n",
        "my_tuple = ()\n",
        "print(my_tuple)\n",
        "\n",
        "# Tuple having integers\n",
        "int_tuple = (1, 2, 3)\n",
        "print(int_tuple)\n",
        "\n",
        "# tuple with mixed datatypes\n",
        "mix_tuple = (1, \"Hello\", 3.4)\n",
        "print(mix_tuple)\n",
        "\n",
        "# nested tuple\n",
        "my_tuple = (\"mouse\", [8, 4, 6], (1, 2, 3))\n",
        "print(my_tuple)"
      ],
      "metadata": {
        "id": "b3lk-5W4TKEc",
        "outputId": "133cebd8-bb59-4648-c21b-15ef9cf65c94",
        "colab": {
          "base_uri": "https://localhost:8080/"
        }
      },
      "execution_count": 9,
      "outputs": [
        {
          "output_type": "stream",
          "name": "stdout",
          "text": [
            "()\n",
            "(1, 2, 3)\n",
            "(1, 'Hello', 3.4)\n",
            "('mouse', [8, 4, 6], (1, 2, 3))\n"
          ]
        }
      ]
    }
  ]
}