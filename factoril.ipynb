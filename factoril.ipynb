{
  "nbformat": 4,
  "nbformat_minor": 0,
  "metadata": {
    "colab": {
      "name": "factoril.ipynb",
      "provenance": [],
      "collapsed_sections": [],
      "authorship_tag": "ABX9TyOhocubjpIX+FYtkvzcvAfB",
      "include_colab_link": true
    },
    "kernelspec": {
      "name": "python3",
      "display_name": "Python 3"
    },
    "language_info": {
      "name": "python"
    }
  },
  "cells": [
    {
      "cell_type": "markdown",
      "metadata": {
        "id": "view-in-github",
        "colab_type": "text"
      },
      "source": [
        "<a href=\"https://colab.research.google.com/github/Anakha-s/Data-Science/blob/main/factoril.ipynb\" target=\"_parent\"><img src=\"https://colab.research.google.com/assets/colab-badge.svg\" alt=\"Open In Colab\"/></a>"
      ]
    },
    {
      "cell_type": "code",
      "metadata": {
        "colab": {
          "base_uri": "https://localhost:8080/"
        },
        "id": "bwV78TH8Tkv1",
        "outputId": "3491b1aa-3e9f-43a0-b4dd-909f9da8752d"
      },
      "source": [
        "n=int(input(\"enyer a number:\"))\n",
        "fact=1\n",
        "if n<0:\n",
        "  print(\"no factorial for -ve numbrers\")\n",
        "elif n==0:\n",
        "  print(\"facorial=1\")\n",
        "else:\n",
        "  for i in range(1,n+1):\n",
        "    fact=fact*i\n",
        "  print(\"factorial of\",n,\"is\",fact)\n"
      ],
      "execution_count": 1,
      "outputs": [
        {
          "output_type": "stream",
          "name": "stdout",
          "text": [
            "enyer a number:5\n",
            "factorial of 5 is 120\n"
          ]
        }
      ]
    }
  ]
}